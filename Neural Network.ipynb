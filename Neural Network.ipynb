{
 "cells": [
  {
   "cell_type": "code",
   "execution_count": 9,
   "id": "a3172e1d",
   "metadata": {},
   "outputs": [],
   "source": [
    "import numpy as np\n",
    "# 4*2 matrix\n",
    "a =[[1,0],[0,1],[0,2],[0,3]]\n",
    "b=[[4,1,3],[2,2,3]]"
   ]
  },
  {
   "cell_type": "code",
   "execution_count": 11,
   "id": "d8149647",
   "metadata": {},
   "outputs": [
    {
     "data": {
      "text/plain": [
       "array([[4, 1, 3],\n",
       "       [2, 2, 3],\n",
       "       [4, 4, 6],\n",
       "       [6, 6, 9]])"
      ]
     },
     "execution_count": 11,
     "metadata": {},
     "output_type": "execute_result"
    }
   ],
   "source": [
    "# 4*3 Matrix\n",
    "c =np.dot(a,b)\n",
    "c"
   ]
  },
  {
   "cell_type": "code",
   "execution_count": 96,
   "id": "aa02f076",
   "metadata": {},
   "outputs": [
    {
     "data": {
      "text/html": [
       "<div>\n",
       "<style scoped>\n",
       "    .dataframe tbody tr th:only-of-type {\n",
       "        vertical-align: middle;\n",
       "    }\n",
       "\n",
       "    .dataframe tbody tr th {\n",
       "        vertical-align: top;\n",
       "    }\n",
       "\n",
       "    .dataframe thead th {\n",
       "        text-align: right;\n",
       "    }\n",
       "</style>\n",
       "<table border=\"1\" class=\"dataframe\">\n",
       "  <thead>\n",
       "    <tr style=\"text-align: right;\">\n",
       "      <th></th>\n",
       "      <th>Glucose</th>\n",
       "      <th>BloodPressure</th>\n",
       "      <th>Diabetes</th>\n",
       "    </tr>\n",
       "  </thead>\n",
       "  <tbody>\n",
       "    <tr>\n",
       "      <th>0</th>\n",
       "      <td>86</td>\n",
       "      <td>104</td>\n",
       "      <td>1</td>\n",
       "    </tr>\n",
       "    <tr>\n",
       "      <th>1</th>\n",
       "      <td>78</td>\n",
       "      <td>111</td>\n",
       "      <td>0</td>\n",
       "    </tr>\n",
       "    <tr>\n",
       "      <th>2</th>\n",
       "      <td>79</td>\n",
       "      <td>114</td>\n",
       "      <td>0</td>\n",
       "    </tr>\n",
       "    <tr>\n",
       "      <th>3</th>\n",
       "      <td>77</td>\n",
       "      <td>105</td>\n",
       "      <td>0</td>\n",
       "    </tr>\n",
       "    <tr>\n",
       "      <th>4</th>\n",
       "      <td>90</td>\n",
       "      <td>100</td>\n",
       "      <td>1</td>\n",
       "    </tr>\n",
       "  </tbody>\n",
       "</table>\n",
       "</div>"
      ],
      "text/plain": [
       "   Glucose  BloodPressure  Diabetes\n",
       "0       86            104         1\n",
       "1       78            111         0\n",
       "2       79            114         0\n",
       "3       77            105         0\n",
       "4       90            100         1"
      ]
     },
     "execution_count": 96,
     "metadata": {},
     "output_type": "execute_result"
    }
   ],
   "source": [
    "import numpy as np\n",
    "import pandas as pd\n",
    "df =pd.read_csv('Data.csv')\n",
    "df.head()"
   ]
  },
  {
   "cell_type": "code",
   "execution_count": 97,
   "id": "f62dd51f",
   "metadata": {},
   "outputs": [],
   "source": [
    "x= df[['Glucose','BloodPressure']]\n",
    "y=df['Diabetes']\n"
   ]
  },
  {
   "cell_type": "code",
   "execution_count": 18,
   "id": "ce208223",
   "metadata": {},
   "outputs": [],
   "source": [
    "def sigmoid(input):\n",
    "    output =1/(1+np.exp(-input))\n",
    "    return output"
   ]
  },
  {
   "cell_type": "code",
   "execution_count": 19,
   "id": "4e305ad5",
   "metadata": {},
   "outputs": [],
   "source": [
    "#Define the sigmoid derivative function\n",
    "def sigmoid_derivative(input):\n",
    "    return sigmoid(input)*(1.0-sigmoid(input))"
   ]
  },
  {
   "cell_type": "code",
   "execution_count": 93,
   "id": "dc51e04f",
   "metadata": {},
   "outputs": [],
   "source": [
    "#define the network training function as below\n",
    "def train_network(features,label,weights,bias,learning_rate,epochs):\n",
    "    for epoch in range (epochs):\n",
    "        #dot product\n",
    "        dot_prod =np.dot(features,weights)+bias\n",
    "        #using sigmoid\n",
    "        preds =sigmoid(dot_prod)\n",
    "        #Error\n",
    "        errors =preds-label\n",
    "        deriva_cost_funct=errors\n",
    "        deriva_preds =sigmoid_derivative(preds)\n",
    "        deriva_product = deriva_cost_funct * deriva_preds\n",
    "        features_T = features.T\n",
    "        #update the weights\n",
    "        weights = weights-np.dot(features_T,deriva_product)* learning_rate\n",
    "        loss=errors.sum()\n",
    "        print(loss)\n",
    "    for i in deriva_product:\n",
    "        bias =bias-i*learning_rate\n",
    "        return weights,bias\n",
    "    "
   ]
  },
  {
   "cell_type": "code",
   "execution_count": 130,
   "id": "4783ea25",
   "metadata": {},
   "outputs": [],
   "source": [
    "np.random.seed(10)\n",
    "features  = x\n",
    "label = y.values.reshape(y.shape[0],1)\n",
    "weights = np.random.rand(2,1)\n",
    "bias = np.random.rand(1)\n",
    "learning_rate = 0.0004\n",
    "epochs = 100"
   ]
  },
  {
   "cell_type": "code",
   "execution_count": 131,
   "id": "52068176",
   "metadata": {},
   "outputs": [
    {
     "name": "stdout",
     "output_type": "stream",
     "text": [
      "3.0\n",
      "3.0\n",
      "3.0\n",
      "3.0\n",
      "3.0\n",
      "3.0\n",
      "3.0\n",
      "2.9999999999999867\n",
      "2.9999999999990044\n",
      "2.999999999925474\n",
      "2.9999999943681033\n",
      "2.999999570558996\n",
      "2.9999669873696293\n",
      "2.9974464551848943\n",
      "2.817687239179599\n",
      "0.8439294392698701\n",
      "0.2898900344277985\n",
      "0.1623952175091683\n",
      "0.10040144943879462\n",
      "0.06321005690835024\n",
      "0.03885730887934831\n",
      "0.022264011880774953\n",
      "0.01074560986042411\n",
      "0.0026798751657812203\n",
      "-0.002991115257433327\n",
      "-0.006985681727923826\n",
      "-0.009801547259943783\n",
      "-0.011786989814307064\n",
      "-0.013186844642691514\n",
      "-0.01417359242115633\n",
      "-0.014868855382675752\n",
      "-0.015358427983518302\n",
      "-0.015702841490688485\n",
      "-0.01594480658264294\n",
      "-0.016114461532898874\n",
      "-0.01623307429146406\n",
      "-0.016315654222773146\n",
      "-0.016372794673776114\n",
      "-0.016411972907782735\n",
      "-0.01643846722751245\n",
      "-0.01645600404433059\n",
      "-0.01646721443927185\n",
      "-0.016473956328300482\n",
      "-0.01647754181278152\n",
      "-0.01647889763489903\n",
      "-0.01647867843264529\n",
      "-0.016477346687712127\n",
      "-0.016475229167818253\n",
      "-0.01647255677889642\n",
      "-0.016469492706749925\n",
      "-0.016466152291632133\n",
      "-0.016462617065990698\n",
      "-0.016458944670730308\n",
      "-0.016455175860897023\n",
      "-0.0164513394556636\n",
      "-0.01644745583626317\n",
      "-0.016443539418093525\n",
      "-0.016439600398057433\n",
      "-0.01643564598977118\n",
      "-0.016431681296835518\n",
      "-0.016427709930308843\n",
      "-0.016423734445357482\n",
      "-0.016419756650071657\n",
      "-0.016415777823903188\n",
      "-0.016411798872181346\n",
      "-0.016407820435448472\n",
      "-0.016403842966805332\n",
      "-0.01639986678665732\n",
      "-0.016395892121457353\n",
      "-0.01639191913112814\n",
      "-0.016387947928480112\n",
      "-0.016383978592948184\n",
      "-0.01638001118033472\n",
      "-0.01637604572969227\n",
      "-0.016372082268209312\n",
      "-0.016368120814667195\n",
      "-0.016364161381892423\n",
      "-0.01636020397848878\n",
      "-0.01635624861006453\n",
      "-0.016352295280109536\n",
      "-0.016348343990612593\n",
      "-0.01634439474249265\n",
      "-0.016340447535917887\n",
      "-0.016336502370517106\n",
      "-0.0163325592455435\n",
      "-0.0163286181599826\n",
      "-0.01632467911262865\n",
      "-0.016320742102140587\n",
      "-0.016316807127083846\n",
      "-0.016312874185959336\n",
      "-0.016308943277216104\n",
      "-0.016305014399276285\n",
      "-0.016301087550537885\n",
      "-0.01629716272937938\n",
      "-0.016293239934174503\n",
      "-0.016289319163284285\n",
      "-0.0162854004150719\n",
      "-0.016281483687893547\n",
      "-0.01627756898010488\n",
      "-0.01627365629005942\n"
     ]
    }
   ],
   "source": [
    "weights_final,bias_final = train_network(features,label,weights,bias,learning_rate,epochs)\n"
   ]
  },
  {
   "cell_type": "code",
   "execution_count": 144,
   "id": "2256da3c",
   "metadata": {},
   "outputs": [
    {
     "name": "stdout",
     "output_type": "stream",
     "text": [
      "Diabetes True\n"
     ]
    }
   ],
   "source": [
    "#prediction\n",
    "inputs =[[86,103]]\n",
    "dot_prod =np.dot(inputs,weights_final)+bias_final\n",
    "preds = sigmoid(dot_prod)>=1/2\n",
    "if(preds): print(\"Diabetes True\")\n",
    "else: print(\"Diabetes False\")"
   ]
  },
  {
   "cell_type": "code",
   "execution_count": null,
   "id": "fab00bba",
   "metadata": {},
   "outputs": [],
   "source": []
  },
  {
   "cell_type": "code",
   "execution_count": null,
   "id": "324c538d",
   "metadata": {},
   "outputs": [],
   "source": []
  }
 ],
 "metadata": {
  "kernelspec": {
   "display_name": "Python 3 (ipykernel)",
   "language": "python",
   "name": "python3"
  },
  "language_info": {
   "codemirror_mode": {
    "name": "ipython",
    "version": 3
   },
   "file_extension": ".py",
   "mimetype": "text/x-python",
   "name": "python",
   "nbconvert_exporter": "python",
   "pygments_lexer": "ipython3",
   "version": "3.9.12"
  }
 },
 "nbformat": 4,
 "nbformat_minor": 5
}
